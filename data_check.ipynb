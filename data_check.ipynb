{
 "cells": [
  {
   "cell_type": "code",
   "execution_count": 1,
   "metadata": {},
   "outputs": [],
   "source": [
    "import pandas as pd\n",
    "samsung = pd.read_csv('data/samsung_1.tsv', sep='\\t', header=None, index_col=0)\n",
    "samsung['label']=0"
   ]
  },
  {
   "cell_type": "code",
   "execution_count": 2,
   "metadata": {},
   "outputs": [],
   "source": [
    "kakao = pd.read_csv('data/kakao_train_1.tsv', sep='\\t', header=None, index_col=0)\n",
    "kakao['label']=1"
   ]
  },
  {
   "cell_type": "code",
   "execution_count": 3,
   "metadata": {},
   "outputs": [],
   "source": [
    "prev_data = pd.concat([samsung, kakao], ignore_index=True)"
   ]
  },
  {
   "cell_type": "code",
   "execution_count": 4,
   "metadata": {},
   "outputs": [],
   "source": [
    "prev_data.columns = ['문제 제목', 'Text', 'Correct', 'Answered', 'Correct rate', 'label']"
   ]
  },
  {
   "cell_type": "code",
   "execution_count": 5,
   "metadata": {},
   "outputs": [
    {
     "data": {
      "text/html": [
       "<div>\n",
       "<style scoped>\n",
       "    .dataframe tbody tr th:only-of-type {\n",
       "        vertical-align: middle;\n",
       "    }\n",
       "\n",
       "    .dataframe tbody tr th {\n",
       "        vertical-align: top;\n",
       "    }\n",
       "\n",
       "    .dataframe thead th {\n",
       "        text-align: right;\n",
       "    }\n",
       "</style>\n",
       "<table border=\"1\" class=\"dataframe\">\n",
       "  <thead>\n",
       "    <tr style=\"text-align: right;\">\n",
       "      <th></th>\n",
       "      <th>문제 제목</th>\n",
       "      <th>Text</th>\n",
       "      <th>Correct</th>\n",
       "      <th>Answered</th>\n",
       "      <th>Correct rate</th>\n",
       "    </tr>\n",
       "  </thead>\n",
       "  <tbody>\n",
       "    <tr>\n",
       "      <th>0</th>\n",
       "      <td>구슬 탈출 2</td>\n",
       "      <td>스타트링크에서 판매하는 어린이용 장난감 중에서 가장 인기가 많은 제품은 구슬 탈출이...</td>\n",
       "      <td>14611</td>\n",
       "      <td>85456</td>\n",
       "      <td>27.741%</td>\n",
       "    </tr>\n",
       "    <tr>\n",
       "      <th>1</th>\n",
       "      <td>2048 (Easy)</td>\n",
       "      <td>2048 게임은 4×4 크기의 보드에서 혼자 즐기는 재미있는 게임이다. 이 링크를 ...</td>\n",
       "      <td>14443</td>\n",
       "      <td>84385</td>\n",
       "      <td>26.328%</td>\n",
       "    </tr>\n",
       "    <tr>\n",
       "      <th>2</th>\n",
       "      <td>뱀</td>\n",
       "      <td>'Dummy' 라는 도스게임이 있다. 이 게임에는 뱀이 나와서 기어다니는데, 사과를...</td>\n",
       "      <td>19643</td>\n",
       "      <td>69605</td>\n",
       "      <td>40.460%</td>\n",
       "    </tr>\n",
       "    <tr>\n",
       "      <th>3</th>\n",
       "      <td>시험 감독</td>\n",
       "      <td>총 N개의 시험장이 있고, 각각의 시험장마다 응시자들이 있다. i번 시험장에 있는 ...</td>\n",
       "      <td>20013</td>\n",
       "      <td>89085</td>\n",
       "      <td>29.030%</td>\n",
       "    </tr>\n",
       "    <tr>\n",
       "      <th>4</th>\n",
       "      <td>주사위 굴리기</td>\n",
       "      <td>크기가 N×M인 지도가 존재한다. 지도의 오른쪽은 동쪽, 위쪽은 북쪽이다. 이 지도...</td>\n",
       "      <td>15652</td>\n",
       "      <td>47791</td>\n",
       "      <td>44.702%</td>\n",
       "    </tr>\n",
       "  </tbody>\n",
       "</table>\n",
       "</div>"
      ],
      "text/plain": [
       "         문제 제목                                               Text  Correct  \\\n",
       "0      구슬 탈출 2  스타트링크에서 판매하는 어린이용 장난감 중에서 가장 인기가 많은 제품은 구슬 탈출이...    14611   \n",
       "1  2048 (Easy)  2048 게임은 4×4 크기의 보드에서 혼자 즐기는 재미있는 게임이다. 이 링크를 ...    14443   \n",
       "2            뱀  'Dummy' 라는 도스게임이 있다. 이 게임에는 뱀이 나와서 기어다니는데, 사과를...    19643   \n",
       "3        시험 감독  총 N개의 시험장이 있고, 각각의 시험장마다 응시자들이 있다. i번 시험장에 있는 ...    20013   \n",
       "4      주사위 굴리기  크기가 N×M인 지도가 존재한다. 지도의 오른쪽은 동쪽, 위쪽은 북쪽이다. 이 지도...    15652   \n",
       "\n",
       "   Answered Correct rate  \n",
       "0     85456      27.741%  \n",
       "1     84385      26.328%  \n",
       "2     69605      40.460%  \n",
       "3     89085      29.030%  \n",
       "4     47791      44.702%  "
      ]
     },
     "execution_count": 5,
     "metadata": {},
     "output_type": "execute_result"
    }
   ],
   "source": [
    "prev_data = prev_data.drop(['label'], axis=1)\n",
    "prev_data.head()"
   ]
  },
  {
   "cell_type": "code",
   "execution_count": 6,
   "metadata": {},
   "outputs": [],
   "source": [
    "prev_data.to_csv('text_boj_1.csv')"
   ]
  },
  {
   "cell_type": "code",
   "execution_count": null,
   "metadata": {},
   "outputs": [],
   "source": []
  }
 ],
 "metadata": {
  "kernelspec": {
   "display_name": "base",
   "language": "python",
   "name": "python3"
  },
  "language_info": {
   "codemirror_mode": {
    "name": "ipython",
    "version": 3
   },
   "file_extension": ".py",
   "mimetype": "text/x-python",
   "name": "python",
   "nbconvert_exporter": "python",
   "pygments_lexer": "ipython3",
   "version": "3.11.3"
  },
  "orig_nbformat": 4
 },
 "nbformat": 4,
 "nbformat_minor": 2
}
